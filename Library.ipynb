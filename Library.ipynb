{
  "nbformat": 4,
  "nbformat_minor": 0,
  "metadata": {
    "colab": {
      "provenance": [],
      "authorship_tag": "ABX9TyOvy5d/+W1Jk7fy1AnKL+Cw",
      "include_colab_link": true
    },
    "kernelspec": {
      "name": "python3",
      "display_name": "Python 3"
    },
    "language_info": {
      "name": "python"
    }
  },
  "cells": [
    {
      "cell_type": "markdown",
      "metadata": {
        "id": "view-in-github",
        "colab_type": "text"
      },
      "source": [
        "<a href=\"https://colab.research.google.com/github/kubrakahraman/PythonApplication1/blob/master/Library.ipynb\" target=\"_parent\"><img src=\"https://colab.research.google.com/assets/colab-badge.svg\" alt=\"Open In Colab\"/></a>"
      ]
    },
    {
      "cell_type": "code",
      "source": [
        "from datetime import datetime"
      ],
      "metadata": {
        "id": "Tqhtv3pFkxh1"
      },
      "execution_count": 2,
      "outputs": []
    },
    {
      "cell_type": "code",
      "execution_count": null,
      "metadata": {
        "id": "Azy8ff6tf-Pa"
      },
      "outputs": [],
      "source": [
        "class Library() :\n",
        "\n",
        "  def __init__(self) :\n",
        "    self.file = open(\"books.txt\", \"a+\")\n",
        "    self.file.write(\"book_name,\")\n",
        "    self.file.write(\"author,\")\n",
        "    self.file.write(\"release_date,\")\n",
        "    self.file.write(\"number_of_page\")\n",
        "\n",
        "  def list_books(self) :\n",
        "    self.file.seek(0)\n",
        "    lines = self.file.readlines()\n",
        "    for line in lines :\n",
        "      book_info = line.split(\",\")\n",
        "      print(f\"Kitap Adı: {book_info[0]}, Yazar: {book_info[1]}\")\n",
        "\n",
        "\n",
        "\n",
        "  def add_book(self) :\n",
        "    book_name = input(\"Bir kitap adı giriniz :\").title()\n",
        "    author = input(\"Bir yazar adı giriniz :\").title()\n",
        "    release_date_str = input(\"Kitabın yayın tarihini giriniz (Yıl-Ay-Gün) :\")\n",
        "    release_date = datetime.strptime(release_date_str, \"%Y-%m-%d\")\n",
        "    number_of_page = int(input(\"Sayfa sayısını giriniz :\"))\n",
        "    book_info = (f\"{book_name},{author},{release_date_str},{number_of_page}\\n\")\n",
        "    self.file.seek(0)\n",
        "    book_list = self.file.readlines()\n",
        "    control_book_name = [line.split(\",\")[0] for line in book_list]\n",
        "    if book_name in control_book_name :        #buradaki if i de çalıştıramadım. Tam olarak nerede hata yaptığımı belirtebilir misiniz?5\n",
        "      print(\"Bu kitap daha önce eklenmiştir.\")\n",
        "    else:\n",
        "      self.file.write(book_info)\n",
        "      print(\"Kitap başarıyla eklendi.\")\n",
        "\n",
        "\n",
        "\n",
        "  def remove_book(self) :\n",
        "    remove_book_title = input(\"Silinecek kitabın adını giriniz :\")\n",
        "    lines = self.file.readlines()\n",
        "    for line in lines :\n",
        "      book_info = line.splitlines()\n",
        "      if remove_book_title in book_info[0] :\n",
        "        lines.remove(line)\n",
        "        break\n",
        "        self.file.seek(0)\n",
        "        self.file.truncate()\n",
        "        for line in lines :\n",
        "          self.file.write(line)\n",
        "          print(\"Kitap başarıyla silinmiştir.\")\n",
        "      else :\n",
        "        print(\"Silmek istediğiniz kitap sistemde yer almamaktadır.\")\n",
        "\n",
        "        #NOT\n",
        "    #remove_book_index = book_info.index(remove_book_title)  if-else yapmadan bu iki kodu kullanarak çalıştırabilir miyim?\n",
        "    #book_info.remove(remove_book_index)\n",
        "\n",
        "\n",
        "\n",
        "\n",
        "\n",
        "lib = Library()\n",
        "\n",
        "while True :\n",
        "  print(\"*** Menü ***\")\n",
        "  print(\"1) List Books\")\n",
        "  print(\"2) Add Book\")\n",
        "  print(\"3) Remove Book\")\n",
        "  print(\"4) Exit\")\n",
        "  choice = input(\"Yapmak istediğiniz işlemi seçin :\")\n",
        "\n",
        "  if choice == \"1\" :\n",
        "    lib.list_books()\n",
        "  elif choice == \"2\" :\n",
        "    lib.add_book()\n",
        "  elif choice == \"3\" :\n",
        "    lib.remove_book()\n",
        "  elif choice == \"4\" :\n",
        "    print(\"Çıkış işlemi gerçekleşmiştir.\")\n",
        "    break\n",
        "  else :\n",
        "    print(\"Seçiminiz geçersizdir. Lütfen tekrar deneyin.\")\n",
        "\n",
        "\n",
        "\n",
        "\n",
        "\n",
        "\n",
        "\n",
        "\n"
      ]
    }
  ]
}